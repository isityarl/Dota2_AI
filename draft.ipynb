{
 "cells": [
  {
   "cell_type": "code",
   "execution_count": 1,
   "id": "8b54f0da",
   "metadata": {},
   "outputs": [],
   "source": [
    "import pandas as pd\n",
    "import numpy as np\n",
    "import json"
   ]
  },
  {
   "cell_type": "code",
   "execution_count": 10,
   "id": "79c4db95",
   "metadata": {},
   "outputs": [
    {
     "data": {
      "text/plain": [
       "898"
      ]
     },
     "execution_count": 10,
     "metadata": {},
     "output_type": "execute_result"
    }
   ],
   "source": [
    "data = pd.read_csv('graph/roster_history.csv')\n",
    "len(data)"
   ]
  },
  {
   "cell_type": "code",
   "execution_count": 11,
   "id": "cfd97560",
   "metadata": {},
   "outputs": [
    {
     "data": {
      "application/vnd.microsoft.datawrangler.viewer.v0+json": {
       "columns": [
        {
         "name": "index",
         "rawType": "int64",
         "type": "integer"
        },
        {
         "name": "account_id",
         "rawType": "int64",
         "type": "integer"
        },
        {
         "name": "name",
         "rawType": "object",
         "type": "string"
        },
        {
         "name": "team_name",
         "rawType": "object",
         "type": "string"
        },
        {
         "name": "start_date",
         "rawType": "object",
         "type": "string"
        },
        {
         "name": "end_date",
         "rawType": "object",
         "type": "string"
        }
       ],
       "ref": "66722549-fb83-429c-ba15-d9e80c9022fe",
       "rows": [
        [
         "0",
         "94054712",
         "Topson",
         "SFTe-sports",
         "2017-08-29",
         "2017-10-16"
        ],
        [
         "1",
         "94054712",
         "Topson",
         "No Rats",
         "2017-10-16",
         "2017-12-07"
        ],
        [
         "2",
         "94054712",
         "Topson",
         "5 Anchors",
         "2017-12-07",
         "2018-03-23"
        ],
        [
         "3",
         "94054712",
         "Topson",
         "OG",
         "2018-06-04",
         "2021-11-19"
        ],
        [
         "4",
         "94054712",
         "Topson",
         "OG(Ia.)",
         "2021-11-19",
         "2023-09-07"
        ],
        [
         "5",
         "94054712",
         "Topson",
         "T1(Stand-in)",
         "2022-08-16",
         "2022-11-16"
        ],
        [
         "6",
         "94054712",
         "Topson",
         "Tundra Esports",
         "2023-09-07",
         "2024-09-24"
        ],
        [
         "7",
         "97658618",
         "Timado",
         "Infamous",
         "2017-03-31",
         "2017-08-21"
        ],
        [
         "8",
         "97658618",
         "Timado",
         "MidOrFeed",
         "2017-08-29",
         "2017-11-27"
        ],
        [
         "9",
         "97658618",
         "Timado",
         "VGJ.Storm",
         "2018-02-17",
         "2018-04-12"
        ],
        [
         "10",
         "97658618",
         "Timado",
         "Infamous",
         "2018-09-07",
         "2019-04-26"
        ],
        [
         "11",
         "97658618",
         "Timado",
         "EgoBoys",
         "2019-05-24",
         "2019-08-27"
        ],
        [
         "12",
         "97658618",
         "Timado",
         "Infamous",
         "2019-11-05",
         "2020-04-13"
        ],
        [
         "13",
         "97658618",
         "Timado",
         "EgoBoys",
         "2020-04-16",
         "2020-12-26"
        ],
        [
         "14",
         "97658618",
         "Timado",
         "Team Undying",
         "2021-01-03",
         "2022-01-25"
        ],
        [
         "15",
         "97658618",
         "Timado",
         "TSM",
         "2022-01-25",
         "2023-12-05"
        ],
        [
         "16",
         "97658618",
         "Timado",
         "Team Undying",
         "2023-12-05",
         "2023-12-10"
        ],
        [
         "17",
         "97658618",
         "Timado",
         "Tundra Esports",
         "2023-12-10",
         "2024-01-02"
        ],
        [
         "18",
         "97658618",
         "Timado",
         "OG",
         "2024-05-09",
         "2024-09-21"
        ],
        [
         "19",
         "97658618",
         "Timado",
         "Shopify Rebellion",
         "2024-09-22",
         "2025-07-30"
        ],
        [
         "20",
         "185590374",
         "Niku",
         "NAVI Junior",
         "2023-09-18",
         "2025-07-01"
        ],
        [
         "21",
         "185590374",
         "Niku",
         "Natus Vincere",
         "2025-07-01",
         "Present"
        ],
        [
         "22",
         "835864135",
         "pma",
         "NAVI Junior",
         "2022-08-02",
         "2025-07-01"
        ],
        [
         "23",
         "835864135",
         "pma",
         "Natus Vincere",
         "2025-07-01",
         "Present"
        ],
        [
         "24",
         "111030315",
         "Zayac",
         "MVP Revolution",
         "2017-01-02",
         "2017-09-25"
        ],
        [
         "25",
         "111030315",
         "Zayac",
         "Vega Squadron",
         "2017-09-25",
         "2018-09-28"
        ],
        [
         "26",
         "111030315",
         "Zayac",
         "The Pango",
         "2018-10-06",
         "2019-04-08"
        ],
        [
         "27",
         "111030315",
         "Zayac",
         "Natus Vincere",
         "2019-04-24",
         "2020-02-02"
        ],
        [
         "28",
         "111030315",
         "Zayac",
         "Virtus.pro",
         "2020-02-03",
         "2020-09-23"
        ],
        [
         "29",
         "111030315",
         "Zayac",
         "Virtus.pro(Ia.)",
         "2020-09-23",
         "2020-11-11"
        ],
        [
         "30",
         "111030315",
         "Zayac",
         "NoTechies",
         "2021-01-02",
         "2021-03-04"
        ],
        [
         "31",
         "111030315",
         "Zayac",
         "HellRaisers(Trial)",
         "2021-03-12",
         "2021-10-22"
        ],
        [
         "32",
         "111030315",
         "Zayac",
         "HYDRA",
         "2021-11-24",
         "2022-05-16"
        ],
        [
         "33",
         "111030315",
         "Zayac",
         "Team Secret",
         "2022-07-04",
         "2023-03-07"
        ],
        [
         "34",
         "111030315",
         "Zayac",
         "Natus Vincere",
         "2023-11-21",
         "2024-10-24"
        ],
        [
         "35",
         "111030315",
         "Zayac",
         "Natus Vincere(Ia.)",
         "2024-10-24",
         "2024-12-06"
        ],
        [
         "36",
         "111030315",
         "Zayac",
         "NAVI Junior",
         "2024-12-06",
         "2025-07-01"
        ],
        [
         "37",
         "111030315",
         "Zayac",
         "Natus Vincere",
         "2025-07-01",
         "Present"
        ],
        [
         "38",
         "130991304",
         "Riddys",
         "NAVI Junior",
         "2022-08-02",
         "2025-07-01"
        ],
        [
         "39",
         "130991304",
         "Riddys",
         "Natus Vincere",
         "2025-07-01",
         "Present"
        ],
        [
         "40",
         "957204049",
         "gotthejuice",
         "NAVI Junior",
         "2022-08-02",
         "2025-07-01"
        ],
        [
         "41",
         "957204049",
         "gotthejuice",
         "Natus Vincere",
         "2025-07-01",
         "Present"
        ],
        [
         "42",
         "152455523",
         "V-Tune",
         "Odium",
         "2018-09-09",
         "2018-09-27"
        ],
        [
         "43",
         "152455523",
         "V-Tune",
         "ACE",
         "2019-01-15",
         "2019-07-09"
        ],
        [
         "44",
         "152455523",
         "V-Tune",
         "HellRaisers(L.)",
         "2019-09-24",
         "2019-11-14"
        ],
        [
         "45",
         "152455523",
         "V-Tune",
         "FlyToMoon",
         "2020-02-21",
         "2020-09-22"
        ],
        [
         "46",
         "152455523",
         "V-Tune",
         "Natus Vincere(Trial)",
         "2020-09-22",
         "2020-12-22"
        ],
        [
         "47",
         "152455523",
         "V-Tune",
         "Natus Vincere",
         "2020-12-22",
         "2021-07-23"
        ],
        [
         "48",
         "152455523",
         "V-Tune",
         "Natus Vincere(Ia.)",
         "2021-07-23",
         "2021-09-02"
        ],
        [
         "49",
         "152455523",
         "V-Tune",
         "Natus Vincere",
         "2021-09-02",
         "2023-02-04"
        ]
       ],
       "shape": {
        "columns": 5,
        "rows": 898
       }
      },
      "text/html": [
       "<div>\n",
       "<style scoped>\n",
       "    .dataframe tbody tr th:only-of-type {\n",
       "        vertical-align: middle;\n",
       "    }\n",
       "\n",
       "    .dataframe tbody tr th {\n",
       "        vertical-align: top;\n",
       "    }\n",
       "\n",
       "    .dataframe thead th {\n",
       "        text-align: right;\n",
       "    }\n",
       "</style>\n",
       "<table border=\"1\" class=\"dataframe\">\n",
       "  <thead>\n",
       "    <tr style=\"text-align: right;\">\n",
       "      <th></th>\n",
       "      <th>account_id</th>\n",
       "      <th>name</th>\n",
       "      <th>team_name</th>\n",
       "      <th>start_date</th>\n",
       "      <th>end_date</th>\n",
       "    </tr>\n",
       "  </thead>\n",
       "  <tbody>\n",
       "    <tr>\n",
       "      <th>0</th>\n",
       "      <td>94054712</td>\n",
       "      <td>Topson</td>\n",
       "      <td>SFTe-sports</td>\n",
       "      <td>2017-08-29</td>\n",
       "      <td>2017-10-16</td>\n",
       "    </tr>\n",
       "    <tr>\n",
       "      <th>1</th>\n",
       "      <td>94054712</td>\n",
       "      <td>Topson</td>\n",
       "      <td>No Rats</td>\n",
       "      <td>2017-10-16</td>\n",
       "      <td>2017-12-07</td>\n",
       "    </tr>\n",
       "    <tr>\n",
       "      <th>2</th>\n",
       "      <td>94054712</td>\n",
       "      <td>Topson</td>\n",
       "      <td>5 Anchors</td>\n",
       "      <td>2017-12-07</td>\n",
       "      <td>2018-03-23</td>\n",
       "    </tr>\n",
       "    <tr>\n",
       "      <th>3</th>\n",
       "      <td>94054712</td>\n",
       "      <td>Topson</td>\n",
       "      <td>OG</td>\n",
       "      <td>2018-06-04</td>\n",
       "      <td>2021-11-19</td>\n",
       "    </tr>\n",
       "    <tr>\n",
       "      <th>4</th>\n",
       "      <td>94054712</td>\n",
       "      <td>Topson</td>\n",
       "      <td>OG(Ia.)</td>\n",
       "      <td>2021-11-19</td>\n",
       "      <td>2023-09-07</td>\n",
       "    </tr>\n",
       "    <tr>\n",
       "      <th>...</th>\n",
       "      <td>...</td>\n",
       "      <td>...</td>\n",
       "      <td>...</td>\n",
       "      <td>...</td>\n",
       "      <td>...</td>\n",
       "    </tr>\n",
       "    <tr>\n",
       "      <th>893</th>\n",
       "      <td>206642367</td>\n",
       "      <td>KuroKy</td>\n",
       "      <td>Natus Vincere</td>\n",
       "      <td>2013-02-28</td>\n",
       "      <td>2014-08-18</td>\n",
       "    </tr>\n",
       "    <tr>\n",
       "      <th>894</th>\n",
       "      <td>206642367</td>\n",
       "      <td>KuroKy</td>\n",
       "      <td>Team Secret</td>\n",
       "      <td>2014-08-27</td>\n",
       "      <td>2015-08-22</td>\n",
       "    </tr>\n",
       "    <tr>\n",
       "      <th>895</th>\n",
       "      <td>206642367</td>\n",
       "      <td>KuroKy</td>\n",
       "      <td>5Jungz</td>\n",
       "      <td>2015-08-28</td>\n",
       "      <td>2015-10-09</td>\n",
       "    </tr>\n",
       "    <tr>\n",
       "      <th>896</th>\n",
       "      <td>206642367</td>\n",
       "      <td>KuroKy</td>\n",
       "      <td>Team Liquid</td>\n",
       "      <td>2015-10-09</td>\n",
       "      <td>2019-09-13</td>\n",
       "    </tr>\n",
       "    <tr>\n",
       "      <th>897</th>\n",
       "      <td>206642367</td>\n",
       "      <td>KuroKy</td>\n",
       "      <td>Nigma Galaxy</td>\n",
       "      <td>2019-11-26</td>\n",
       "      <td>Present</td>\n",
       "    </tr>\n",
       "  </tbody>\n",
       "</table>\n",
       "<p>898 rows × 5 columns</p>\n",
       "</div>"
      ],
      "text/plain": [
       "     account_id    name      team_name  start_date    end_date\n",
       "0      94054712  Topson    SFTe-sports  2017-08-29  2017-10-16\n",
       "1      94054712  Topson        No Rats  2017-10-16  2017-12-07\n",
       "2      94054712  Topson      5 Anchors  2017-12-07  2018-03-23\n",
       "3      94054712  Topson             OG  2018-06-04  2021-11-19\n",
       "4      94054712  Topson        OG(Ia.)  2021-11-19  2023-09-07\n",
       "..          ...     ...            ...         ...         ...\n",
       "893   206642367  KuroKy  Natus Vincere  2013-02-28  2014-08-18\n",
       "894   206642367  KuroKy    Team Secret  2014-08-27  2015-08-22\n",
       "895   206642367  KuroKy         5Jungz  2015-08-28  2015-10-09\n",
       "896   206642367  KuroKy    Team Liquid  2015-10-09  2019-09-13\n",
       "897   206642367  KuroKy   Nigma Galaxy  2019-11-26     Present\n",
       "\n",
       "[898 rows x 5 columns]"
      ]
     },
     "execution_count": 11,
     "metadata": {},
     "output_type": "execute_result"
    }
   ],
   "source": [
    "data"
   ]
  },
  {
   "cell_type": "code",
   "execution_count": 14,
   "id": "59fd1a41",
   "metadata": {},
   "outputs": [
    {
     "data": {
      "application/vnd.microsoft.datawrangler.viewer.v0+json": {
       "columns": [
        {
         "name": "index",
         "rawType": "int64",
         "type": "integer"
        },
        {
         "name": "account_id",
         "rawType": "int64",
         "type": "integer"
        },
        {
         "name": "name",
         "rawType": "object",
         "type": "string"
        },
        {
         "name": "team_name",
         "rawType": "object",
         "type": "string"
        },
        {
         "name": "start_date",
         "rawType": "object",
         "type": "string"
        },
        {
         "name": "end_date",
         "rawType": "object",
         "type": "string"
        }
       ],
       "ref": "33283e0b-26b4-4b9c-8d1f-e48fd65a5366",
       "rows": [
        [
         "0",
         "94054712",
         "Topson",
         "SFTe-sports",
         "2017-08-29",
         "2017-10-16"
        ],
        [
         "1",
         "94054712",
         "Topson",
         "No Rats",
         "2017-10-16",
         "2017-12-07"
        ],
        [
         "2",
         "94054712",
         "Topson",
         "5 Anchors",
         "2017-12-07",
         "2018-03-23"
        ],
        [
         "3",
         "94054712",
         "Topson",
         "OG",
         "2018-06-04",
         "2021-11-19"
        ],
        [
         "4",
         "94054712",
         "Topson",
         "OG",
         "2021-11-19",
         "2023-09-07"
        ],
        [
         "5",
         "94054712",
         "Topson",
         "T1",
         "2022-08-16",
         "2022-11-16"
        ],
        [
         "6",
         "94054712",
         "Topson",
         "Tundra Esports",
         "2023-09-07",
         "2024-09-24"
        ],
        [
         "7",
         "97658618",
         "Timado",
         "Infamous",
         "2017-03-31",
         "2017-08-21"
        ],
        [
         "8",
         "97658618",
         "Timado",
         "MidOrFeed",
         "2017-08-29",
         "2017-11-27"
        ],
        [
         "9",
         "97658618",
         "Timado",
         "VGJ.Storm",
         "2018-02-17",
         "2018-04-12"
        ],
        [
         "10",
         "97658618",
         "Timado",
         "Infamous",
         "2018-09-07",
         "2019-04-26"
        ],
        [
         "11",
         "97658618",
         "Timado",
         "EgoBoys",
         "2019-05-24",
         "2019-08-27"
        ],
        [
         "12",
         "97658618",
         "Timado",
         "Infamous",
         "2019-11-05",
         "2020-04-13"
        ],
        [
         "13",
         "97658618",
         "Timado",
         "EgoBoys",
         "2020-04-16",
         "2020-12-26"
        ],
        [
         "14",
         "97658618",
         "Timado",
         "Team Undying",
         "2021-01-03",
         "2022-01-25"
        ],
        [
         "15",
         "97658618",
         "Timado",
         "TSM",
         "2022-01-25",
         "2023-12-05"
        ],
        [
         "16",
         "97658618",
         "Timado",
         "Team Undying",
         "2023-12-05",
         "2023-12-10"
        ],
        [
         "17",
         "97658618",
         "Timado",
         "Tundra Esports",
         "2023-12-10",
         "2024-01-02"
        ],
        [
         "18",
         "97658618",
         "Timado",
         "OG",
         "2024-05-09",
         "2024-09-21"
        ],
        [
         "19",
         "97658618",
         "Timado",
         "Shopify Rebellion",
         "2024-09-22",
         "2025-07-30"
        ],
        [
         "20",
         "185590374",
         "Niku",
         "NAVI Junior",
         "2023-09-18",
         "2025-07-01"
        ],
        [
         "21",
         "185590374",
         "Niku",
         "Natus Vincere",
         "2025-07-01",
         "Present"
        ],
        [
         "22",
         "835864135",
         "pma",
         "NAVI Junior",
         "2022-08-02",
         "2025-07-01"
        ],
        [
         "23",
         "835864135",
         "pma",
         "Natus Vincere",
         "2025-07-01",
         "Present"
        ],
        [
         "24",
         "111030315",
         "Zayac",
         "MVP Revolution",
         "2017-01-02",
         "2017-09-25"
        ],
        [
         "25",
         "111030315",
         "Zayac",
         "Vega Squadron",
         "2017-09-25",
         "2018-09-28"
        ],
        [
         "26",
         "111030315",
         "Zayac",
         "The Pango",
         "2018-10-06",
         "2019-04-08"
        ],
        [
         "27",
         "111030315",
         "Zayac",
         "Natus Vincere",
         "2019-04-24",
         "2020-02-02"
        ],
        [
         "28",
         "111030315",
         "Zayac",
         "Virtus.pro",
         "2020-02-03",
         "2020-09-23"
        ],
        [
         "29",
         "111030315",
         "Zayac",
         "Virtus.pro",
         "2020-09-23",
         "2020-11-11"
        ],
        [
         "30",
         "111030315",
         "Zayac",
         "NoTechies",
         "2021-01-02",
         "2021-03-04"
        ],
        [
         "31",
         "111030315",
         "Zayac",
         "HellRaisers",
         "2021-03-12",
         "2021-10-22"
        ],
        [
         "32",
         "111030315",
         "Zayac",
         "HYDRA",
         "2021-11-24",
         "2022-05-16"
        ],
        [
         "33",
         "111030315",
         "Zayac",
         "Team Secret",
         "2022-07-04",
         "2023-03-07"
        ],
        [
         "34",
         "111030315",
         "Zayac",
         "Natus Vincere",
         "2023-11-21",
         "2024-10-24"
        ],
        [
         "35",
         "111030315",
         "Zayac",
         "Natus Vincere",
         "2024-10-24",
         "2024-12-06"
        ],
        [
         "36",
         "111030315",
         "Zayac",
         "NAVI Junior",
         "2024-12-06",
         "2025-07-01"
        ],
        [
         "37",
         "111030315",
         "Zayac",
         "Natus Vincere",
         "2025-07-01",
         "Present"
        ],
        [
         "38",
         "130991304",
         "Riddys",
         "NAVI Junior",
         "2022-08-02",
         "2025-07-01"
        ],
        [
         "39",
         "130991304",
         "Riddys",
         "Natus Vincere",
         "2025-07-01",
         "Present"
        ],
        [
         "40",
         "957204049",
         "gotthejuice",
         "NAVI Junior",
         "2022-08-02",
         "2025-07-01"
        ],
        [
         "41",
         "957204049",
         "gotthejuice",
         "Natus Vincere",
         "2025-07-01",
         "Present"
        ],
        [
         "42",
         "152455523",
         "V-Tune",
         "Odium",
         "2018-09-09",
         "2018-09-27"
        ],
        [
         "43",
         "152455523",
         "V-Tune",
         "ACE",
         "2019-01-15",
         "2019-07-09"
        ],
        [
         "44",
         "152455523",
         "V-Tune",
         "HellRaisers",
         "2019-09-24",
         "2019-11-14"
        ],
        [
         "45",
         "152455523",
         "V-Tune",
         "FlyToMoon",
         "2020-02-21",
         "2020-09-22"
        ],
        [
         "46",
         "152455523",
         "V-Tune",
         "Natus Vincere",
         "2020-09-22",
         "2020-12-22"
        ],
        [
         "47",
         "152455523",
         "V-Tune",
         "Natus Vincere",
         "2020-12-22",
         "2021-07-23"
        ],
        [
         "48",
         "152455523",
         "V-Tune",
         "Natus Vincere",
         "2021-07-23",
         "2021-09-02"
        ],
        [
         "49",
         "152455523",
         "V-Tune",
         "Natus Vincere",
         "2021-09-02",
         "2023-02-04"
        ]
       ],
       "shape": {
        "columns": 5,
        "rows": 898
       }
      },
      "text/html": [
       "<div>\n",
       "<style scoped>\n",
       "    .dataframe tbody tr th:only-of-type {\n",
       "        vertical-align: middle;\n",
       "    }\n",
       "\n",
       "    .dataframe tbody tr th {\n",
       "        vertical-align: top;\n",
       "    }\n",
       "\n",
       "    .dataframe thead th {\n",
       "        text-align: right;\n",
       "    }\n",
       "</style>\n",
       "<table border=\"1\" class=\"dataframe\">\n",
       "  <thead>\n",
       "    <tr style=\"text-align: right;\">\n",
       "      <th></th>\n",
       "      <th>account_id</th>\n",
       "      <th>name</th>\n",
       "      <th>team_name</th>\n",
       "      <th>start_date</th>\n",
       "      <th>end_date</th>\n",
       "    </tr>\n",
       "  </thead>\n",
       "  <tbody>\n",
       "    <tr>\n",
       "      <th>0</th>\n",
       "      <td>94054712</td>\n",
       "      <td>Topson</td>\n",
       "      <td>SFTe-sports</td>\n",
       "      <td>2017-08-29</td>\n",
       "      <td>2017-10-16</td>\n",
       "    </tr>\n",
       "    <tr>\n",
       "      <th>1</th>\n",
       "      <td>94054712</td>\n",
       "      <td>Topson</td>\n",
       "      <td>No Rats</td>\n",
       "      <td>2017-10-16</td>\n",
       "      <td>2017-12-07</td>\n",
       "    </tr>\n",
       "    <tr>\n",
       "      <th>2</th>\n",
       "      <td>94054712</td>\n",
       "      <td>Topson</td>\n",
       "      <td>5 Anchors</td>\n",
       "      <td>2017-12-07</td>\n",
       "      <td>2018-03-23</td>\n",
       "    </tr>\n",
       "    <tr>\n",
       "      <th>3</th>\n",
       "      <td>94054712</td>\n",
       "      <td>Topson</td>\n",
       "      <td>OG</td>\n",
       "      <td>2018-06-04</td>\n",
       "      <td>2021-11-19</td>\n",
       "    </tr>\n",
       "    <tr>\n",
       "      <th>4</th>\n",
       "      <td>94054712</td>\n",
       "      <td>Topson</td>\n",
       "      <td>OG</td>\n",
       "      <td>2021-11-19</td>\n",
       "      <td>2023-09-07</td>\n",
       "    </tr>\n",
       "    <tr>\n",
       "      <th>...</th>\n",
       "      <td>...</td>\n",
       "      <td>...</td>\n",
       "      <td>...</td>\n",
       "      <td>...</td>\n",
       "      <td>...</td>\n",
       "    </tr>\n",
       "    <tr>\n",
       "      <th>893</th>\n",
       "      <td>206642367</td>\n",
       "      <td>KuroKy</td>\n",
       "      <td>Natus Vincere</td>\n",
       "      <td>2013-02-28</td>\n",
       "      <td>2014-08-18</td>\n",
       "    </tr>\n",
       "    <tr>\n",
       "      <th>894</th>\n",
       "      <td>206642367</td>\n",
       "      <td>KuroKy</td>\n",
       "      <td>Team Secret</td>\n",
       "      <td>2014-08-27</td>\n",
       "      <td>2015-08-22</td>\n",
       "    </tr>\n",
       "    <tr>\n",
       "      <th>895</th>\n",
       "      <td>206642367</td>\n",
       "      <td>KuroKy</td>\n",
       "      <td>5Jungz</td>\n",
       "      <td>2015-08-28</td>\n",
       "      <td>2015-10-09</td>\n",
       "    </tr>\n",
       "    <tr>\n",
       "      <th>896</th>\n",
       "      <td>206642367</td>\n",
       "      <td>KuroKy</td>\n",
       "      <td>Team Liquid</td>\n",
       "      <td>2015-10-09</td>\n",
       "      <td>2019-09-13</td>\n",
       "    </tr>\n",
       "    <tr>\n",
       "      <th>897</th>\n",
       "      <td>206642367</td>\n",
       "      <td>KuroKy</td>\n",
       "      <td>Nigma Galaxy</td>\n",
       "      <td>2019-11-26</td>\n",
       "      <td>Present</td>\n",
       "    </tr>\n",
       "  </tbody>\n",
       "</table>\n",
       "<p>898 rows × 5 columns</p>\n",
       "</div>"
      ],
      "text/plain": [
       "     account_id    name      team_name  start_date    end_date\n",
       "0      94054712  Topson    SFTe-sports  2017-08-29  2017-10-16\n",
       "1      94054712  Topson        No Rats  2017-10-16  2017-12-07\n",
       "2      94054712  Topson      5 Anchors  2017-12-07  2018-03-23\n",
       "3      94054712  Topson             OG  2018-06-04  2021-11-19\n",
       "4      94054712  Topson             OG  2021-11-19  2023-09-07\n",
       "..          ...     ...            ...         ...         ...\n",
       "893   206642367  KuroKy  Natus Vincere  2013-02-28  2014-08-18\n",
       "894   206642367  KuroKy    Team Secret  2014-08-27  2015-08-22\n",
       "895   206642367  KuroKy         5Jungz  2015-08-28  2015-10-09\n",
       "896   206642367  KuroKy    Team Liquid  2015-10-09  2019-09-13\n",
       "897   206642367  KuroKy   Nigma Galaxy  2019-11-26     Present\n",
       "\n",
       "[898 rows x 5 columns]"
      ]
     },
     "execution_count": 14,
     "metadata": {},
     "output_type": "execute_result"
    }
   ],
   "source": [
    "def clean_team_name(raw_name):\n",
    "  return raw_name.split('(')[0].strip()\n",
    "\n",
    "data['team_name'] = data['team_name'].apply(clean_team_name)\n",
    "data"
   ]
  },
  {
   "cell_type": "code",
   "execution_count": 16,
   "id": "7b6a41ee",
   "metadata": {},
   "outputs": [],
   "source": [
    "data.dropna(subset=['team_name'])\n",
    "data.to_csv('graph/roster_history.csv', index=False)"
   ]
  },
  {
   "cell_type": "code",
   "execution_count": 3,
   "id": "62fb56cc",
   "metadata": {},
   "outputs": [],
   "source": [
    "import requests\n",
    "from bs4 import BeautifulSoup\n",
    "from neo4j import GraphDatabase\n",
    "import os"
   ]
  },
  {
   "cell_type": "code",
   "execution_count": null,
   "id": "d93c4550",
   "metadata": {},
   "outputs": [
    {
     "data": {
      "application/vnd.microsoft.datawrangler.viewer.v0+json": {
       "columns": [
        {
         "name": "index",
         "rawType": "int64",
         "type": "integer"
        },
        {
         "name": "team_name",
         "rawType": "object",
         "type": "string"
        }
       ],
       "ref": "8a2db18d-a3a7-4632-a3c3-3c79fe79e51a",
       "rows": [
        [
         "0",
         "Team Spirit"
        ],
        [
         "1",
         "Team Liquid"
        ],
        [
         "2",
         "BB Team"
        ],
        [
         "3",
         "Team Falcons"
        ],
        [
         "4",
         "Gaimin Gladiators"
        ],
        [
         "5",
         "Aurora Gaming"
        ],
        [
         "6",
         "Tundra Esports"
        ],
        [
         "7",
         "Team Tidebound"
        ],
        [
         "8",
         "Natus Vincere"
        ],
        [
         "9",
         "Xtreme Gaming"
        ],
        [
         "10",
         "Team Nemesis"
        ],
        [
         "11",
         "PVISION"
        ],
        [
         "12",
         "BOOM Esports"
        ],
        [
         "13",
         "HEROIC"
        ],
        [
         "14",
         "Shopify Rebellion"
        ],
        [
         "15",
         "Talon"
        ],
        [
         "16",
         "Nigma Galaxy"
        ],
        [
         "17",
         "AVULUS"
        ],
        [
         "18",
         "Virtus.pro"
        ],
        [
         "19",
         "Team Yandex"
        ],
        [
         "20",
         "Digital Chaos"
        ],
        [
         "21",
         "Thunderbirds"
        ],
        [
         "22",
         "Planet Odd"
        ],
        [
         "23",
         "Team World"
        ],
        [
         "24",
         "Echo.Int"
        ],
        [
         "25",
         "compLexity Gaming"
        ],
        [
         "26",
         "BlinkPool"
        ],
        [
         "27",
         "Geek Fam"
        ],
        [
         "28",
         "Tuho"
        ],
        [
         "29",
         "ALTERNATE aTTaX"
        ],
        [
         "30",
         "Let's Do It"
        ],
        [
         "31",
         "Team Kinguin"
        ],
        [
         "32",
         "Quincy Crew"
        ],
        [
         "33",
         "Chicken Fighters"
        ],
        [
         "34",
         "Galaxy Team"
        ],
        [
         "35",
         "3DMAX"
        ],
        [
         "36",
         "Team Life"
        ],
        [
         "37",
         "mousesports"
        ],
        [
         "38",
         "Meet Your Makers"
        ],
        [
         "39",
         "Flipsid3 Tactics"
        ],
        [
         "40",
         "Danish Bears"
        ],
        [
         "41",
         "The Imperial"
        ],
        [
         "42",
         "5men"
        ],
        [
         "43",
         "Hellbear Smashers"
        ],
        [
         "44",
         "FDL"
        ],
        [
         "45",
         "is GG"
        ],
        [
         "46",
         "Team Freedom"
        ],
        [
         "47",
         "The Dire"
        ],
        [
         "48",
         "paiN X"
        ],
        [
         "49",
         "Flying Penguins"
        ]
       ],
       "shape": {
        "columns": 1,
        "rows": 296
       }
      },
      "text/html": [
       "<div>\n",
       "<style scoped>\n",
       "    .dataframe tbody tr th:only-of-type {\n",
       "        vertical-align: middle;\n",
       "    }\n",
       "\n",
       "    .dataframe tbody tr th {\n",
       "        vertical-align: top;\n",
       "    }\n",
       "\n",
       "    .dataframe thead th {\n",
       "        text-align: right;\n",
       "    }\n",
       "</style>\n",
       "<table border=\"1\" class=\"dataframe\">\n",
       "  <thead>\n",
       "    <tr style=\"text-align: right;\">\n",
       "      <th></th>\n",
       "      <th>team_name</th>\n",
       "    </tr>\n",
       "  </thead>\n",
       "  <tbody>\n",
       "    <tr>\n",
       "      <th>0</th>\n",
       "      <td>Team Spirit</td>\n",
       "    </tr>\n",
       "    <tr>\n",
       "      <th>1</th>\n",
       "      <td>Team Liquid</td>\n",
       "    </tr>\n",
       "    <tr>\n",
       "      <th>2</th>\n",
       "      <td>BB Team</td>\n",
       "    </tr>\n",
       "    <tr>\n",
       "      <th>3</th>\n",
       "      <td>Team Falcons</td>\n",
       "    </tr>\n",
       "    <tr>\n",
       "      <th>4</th>\n",
       "      <td>Gaimin Gladiators</td>\n",
       "    </tr>\n",
       "    <tr>\n",
       "      <th>...</th>\n",
       "      <td>...</td>\n",
       "    </tr>\n",
       "    <tr>\n",
       "      <th>291</th>\n",
       "      <td>Mamas Boys</td>\n",
       "    </tr>\n",
       "    <tr>\n",
       "      <th>292</th>\n",
       "      <td>D1 Hustlers</td>\n",
       "    </tr>\n",
       "    <tr>\n",
       "      <th>293</th>\n",
       "      <td>The Prime</td>\n",
       "    </tr>\n",
       "    <tr>\n",
       "      <th>294</th>\n",
       "      <td>Nemiga Gaming</td>\n",
       "    </tr>\n",
       "    <tr>\n",
       "      <th>295</th>\n",
       "      <td>Arcanys</td>\n",
       "    </tr>\n",
       "  </tbody>\n",
       "</table>\n",
       "<p>296 rows × 1 columns</p>\n",
       "</div>"
      ],
      "text/plain": [
       "             team_name\n",
       "0          Team Spirit\n",
       "1          Team Liquid\n",
       "2              BB Team\n",
       "3         Team Falcons\n",
       "4    Gaimin Gladiators\n",
       "..                 ...\n",
       "291         Mamas Boys\n",
       "292        D1 Hustlers\n",
       "293          The Prime\n",
       "294      Nemiga Gaming\n",
       "295            Arcanys\n",
       "\n",
       "[296 rows x 1 columns]"
      ]
     },
     "execution_count": 7,
     "metadata": {},
     "output_type": "execute_result"
    }
   ],
   "source": [
    "URI = 'neo4j+s://9fa0005b.databases.neo4j.io'\n",
    "USERNAME = 'neo4j'\n",
    "PASSWORD = '2OGzHvL34RYo6zDxtqKxsWl6ktfkjVpvjV5_Hod-Mq8'\n",
    "\n",
    "query = \"MATCH (t:Tournament) RETURN t.name AS name, t.league_id AS league_id\"\n",
    "\n",
    "with GraphDatabase.driver(URI, auth=(USERNAME, PASSWORD)) as driver:\n",
    "    with driver.session(database='neo4j') as session:\n",
    "        result = session.run(query)\n",
    "\n",
    "        tours = [record.data() for record in result]\n",
    "\n",
    "data = pd.DataFrame(tours)\n",
    "data        \n",
    "            \n"
   ]
  },
  {
   "cell_type": "code",
   "execution_count": null,
   "id": "4a4457e6",
   "metadata": {},
   "outputs": [],
   "source": []
  }
 ],
 "metadata": {
  "kernelspec": {
   "display_name": "venv",
   "language": "python",
   "name": "python3"
  },
  "language_info": {
   "codemirror_mode": {
    "name": "ipython",
    "version": 3
   },
   "file_extension": ".py",
   "mimetype": "text/x-python",
   "name": "python",
   "nbconvert_exporter": "python",
   "pygments_lexer": "ipython3",
   "version": "3.12.3"
  }
 },
 "nbformat": 4,
 "nbformat_minor": 5
}
