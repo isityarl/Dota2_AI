{
 "cells": [
  {
   "cell_type": "code",
   "execution_count": 1,
   "id": "8b54f0da",
   "metadata": {},
   "outputs": [],
   "source": [
    "import pandas as pd\n",
    "import numpy as np\n",
    "import json"
   ]
  },
  {
   "cell_type": "code",
   "execution_count": 2,
   "id": "dc4f7118",
   "metadata": {},
   "outputs": [],
   "source": [
    "with open('leagues.json', 'r') as f:\n",
    "    list_of_leagues = json.load(f)\n",
    "\n",
    "data = pd.DataFrame(list_of_leagues)"
   ]
  },
  {
   "cell_type": "code",
   "execution_count": 3,
   "id": "8c37293f",
   "metadata": {},
   "outputs": [],
   "source": [
    "data = data[(data['tier'] == 'professional') | (data['tier'] == 'premium')]"
   ]
  },
  {
   "cell_type": "code",
   "execution_count": 4,
   "id": "d14029ec",
   "metadata": {},
   "outputs": [
    {
     "data": {
      "application/vnd.microsoft.datawrangler.viewer.v0+json": {
       "columns": [
        {
         "name": "index",
         "rawType": "int64",
         "type": "integer"
        },
        {
         "name": "leagueid",
         "rawType": "int64",
         "type": "integer"
        },
        {
         "name": "ticket",
         "rawType": "object",
         "type": "unknown"
        },
        {
         "name": "banner",
         "rawType": "object",
         "type": "unknown"
        },
        {
         "name": "tier",
         "rawType": "object",
         "type": "string"
        },
        {
         "name": "name",
         "rawType": "object",
         "type": "string"
        }
       ],
       "ref": "c601daef-40d5-44af-a5e1-96b8b8794c5f",
       "rows": [
        [
         "442",
         "5401",
         null,
         null,
         "professional",
         "The International 2017"
        ],
        [
         "936",
         "10749",
         null,
         null,
         "premium",
         "The International 2019"
        ],
        [
         "2135",
         "9870",
         null,
         null,
         "premium",
         "The International 2018"
        ],
        [
         "3569",
         "13256",
         null,
         null,
         "premium",
         "The International 2021"
        ],
        [
         "4154",
         "14268",
         null,
         null,
         "premium",
         "The International 2022"
        ],
        [
         "4956",
         "14642",
         null,
         null,
         "premium",
         "The International 2022 Last Chance Qualifiers"
        ],
        [
         "5903",
         "18324",
         null,
         null,
         "premium",
         "The International 2025"
        ],
        [
         "5918",
         "2733",
         null,
         null,
         "professional",
         "The International 2015"
        ],
        [
         "6310",
         "4664",
         null,
         null,
         "premium",
         "The International 2016"
        ],
        [
         "6543",
         "16935",
         null,
         null,
         "premium",
         "The International 2024"
        ],
        [
         "7533",
         "15728",
         null,
         null,
         "premium",
         "The International 2023"
        ],
        [
         "7709",
         "600",
         null,
         null,
         "professional",
         "The International 2014"
        ],
        [
         "8074",
         "65001",
         "econ/leagues/subscriptions_international_ingame",
         "econ/leagues/subscriptions_international_ingame",
         "professional",
         "The International 2012"
        ],
        [
         "8577",
         "65006",
         null,
         null,
         "professional",
         "The International 2013"
        ]
       ],
       "shape": {
        "columns": 5,
        "rows": 14
       }
      },
      "text/html": [
       "<div>\n",
       "<style scoped>\n",
       "    .dataframe tbody tr th:only-of-type {\n",
       "        vertical-align: middle;\n",
       "    }\n",
       "\n",
       "    .dataframe tbody tr th {\n",
       "        vertical-align: top;\n",
       "    }\n",
       "\n",
       "    .dataframe thead th {\n",
       "        text-align: right;\n",
       "    }\n",
       "</style>\n",
       "<table border=\"1\" class=\"dataframe\">\n",
       "  <thead>\n",
       "    <tr style=\"text-align: right;\">\n",
       "      <th></th>\n",
       "      <th>leagueid</th>\n",
       "      <th>ticket</th>\n",
       "      <th>banner</th>\n",
       "      <th>tier</th>\n",
       "      <th>name</th>\n",
       "    </tr>\n",
       "  </thead>\n",
       "  <tbody>\n",
       "    <tr>\n",
       "      <th>442</th>\n",
       "      <td>5401</td>\n",
       "      <td>None</td>\n",
       "      <td>None</td>\n",
       "      <td>professional</td>\n",
       "      <td>The International 2017</td>\n",
       "    </tr>\n",
       "    <tr>\n",
       "      <th>936</th>\n",
       "      <td>10749</td>\n",
       "      <td>None</td>\n",
       "      <td>None</td>\n",
       "      <td>premium</td>\n",
       "      <td>The International 2019</td>\n",
       "    </tr>\n",
       "    <tr>\n",
       "      <th>2135</th>\n",
       "      <td>9870</td>\n",
       "      <td>None</td>\n",
       "      <td>None</td>\n",
       "      <td>premium</td>\n",
       "      <td>The International 2018</td>\n",
       "    </tr>\n",
       "    <tr>\n",
       "      <th>3569</th>\n",
       "      <td>13256</td>\n",
       "      <td>None</td>\n",
       "      <td>None</td>\n",
       "      <td>premium</td>\n",
       "      <td>The International 2021</td>\n",
       "    </tr>\n",
       "    <tr>\n",
       "      <th>4154</th>\n",
       "      <td>14268</td>\n",
       "      <td>None</td>\n",
       "      <td>None</td>\n",
       "      <td>premium</td>\n",
       "      <td>The International 2022</td>\n",
       "    </tr>\n",
       "    <tr>\n",
       "      <th>4956</th>\n",
       "      <td>14642</td>\n",
       "      <td>None</td>\n",
       "      <td>None</td>\n",
       "      <td>premium</td>\n",
       "      <td>The International 2022 Last Chance Qualifiers</td>\n",
       "    </tr>\n",
       "    <tr>\n",
       "      <th>5903</th>\n",
       "      <td>18324</td>\n",
       "      <td>None</td>\n",
       "      <td>None</td>\n",
       "      <td>premium</td>\n",
       "      <td>The International 2025</td>\n",
       "    </tr>\n",
       "    <tr>\n",
       "      <th>5918</th>\n",
       "      <td>2733</td>\n",
       "      <td>None</td>\n",
       "      <td>None</td>\n",
       "      <td>professional</td>\n",
       "      <td>The International 2015</td>\n",
       "    </tr>\n",
       "    <tr>\n",
       "      <th>6310</th>\n",
       "      <td>4664</td>\n",
       "      <td>None</td>\n",
       "      <td>None</td>\n",
       "      <td>premium</td>\n",
       "      <td>The International 2016</td>\n",
       "    </tr>\n",
       "    <tr>\n",
       "      <th>6543</th>\n",
       "      <td>16935</td>\n",
       "      <td>None</td>\n",
       "      <td>None</td>\n",
       "      <td>premium</td>\n",
       "      <td>The International 2024</td>\n",
       "    </tr>\n",
       "    <tr>\n",
       "      <th>7533</th>\n",
       "      <td>15728</td>\n",
       "      <td>None</td>\n",
       "      <td>None</td>\n",
       "      <td>premium</td>\n",
       "      <td>The International 2023</td>\n",
       "    </tr>\n",
       "    <tr>\n",
       "      <th>7709</th>\n",
       "      <td>600</td>\n",
       "      <td>None</td>\n",
       "      <td>None</td>\n",
       "      <td>professional</td>\n",
       "      <td>The International 2014</td>\n",
       "    </tr>\n",
       "    <tr>\n",
       "      <th>8074</th>\n",
       "      <td>65001</td>\n",
       "      <td>econ/leagues/subscriptions_international_ingame</td>\n",
       "      <td>econ/leagues/subscriptions_international_ingame</td>\n",
       "      <td>professional</td>\n",
       "      <td>The International 2012</td>\n",
       "    </tr>\n",
       "    <tr>\n",
       "      <th>8577</th>\n",
       "      <td>65006</td>\n",
       "      <td>None</td>\n",
       "      <td>None</td>\n",
       "      <td>professional</td>\n",
       "      <td>The International 2013</td>\n",
       "    </tr>\n",
       "  </tbody>\n",
       "</table>\n",
       "</div>"
      ],
      "text/plain": [
       "      leagueid                                           ticket  \\\n",
       "442       5401                                             None   \n",
       "936      10749                                             None   \n",
       "2135      9870                                             None   \n",
       "3569     13256                                             None   \n",
       "4154     14268                                             None   \n",
       "4956     14642                                             None   \n",
       "5903     18324                                             None   \n",
       "5918      2733                                             None   \n",
       "6310      4664                                             None   \n",
       "6543     16935                                             None   \n",
       "7533     15728                                             None   \n",
       "7709       600                                             None   \n",
       "8074     65001  econ/leagues/subscriptions_international_ingame   \n",
       "8577     65006                                             None   \n",
       "\n",
       "                                               banner          tier  \\\n",
       "442                                              None  professional   \n",
       "936                                              None       premium   \n",
       "2135                                             None       premium   \n",
       "3569                                             None       premium   \n",
       "4154                                             None       premium   \n",
       "4956                                             None       premium   \n",
       "5903                                             None       premium   \n",
       "5918                                             None  professional   \n",
       "6310                                             None       premium   \n",
       "6543                                             None       premium   \n",
       "7533                                             None       premium   \n",
       "7709                                             None  professional   \n",
       "8074  econ/leagues/subscriptions_international_ingame  professional   \n",
       "8577                                             None  professional   \n",
       "\n",
       "                                               name  \n",
       "442                          The International 2017  \n",
       "936                          The International 2019  \n",
       "2135                         The International 2018  \n",
       "3569                         The International 2021  \n",
       "4154                         The International 2022  \n",
       "4956  The International 2022 Last Chance Qualifiers  \n",
       "5903                         The International 2025  \n",
       "5918                         The International 2015  \n",
       "6310                         The International 2016  \n",
       "6543                         The International 2024  \n",
       "7533                         The International 2023  \n",
       "7709                         The International 2014  \n",
       "8074                         The International 2012  \n",
       "8577                         The International 2013  "
      ]
     },
     "execution_count": 4,
     "metadata": {},
     "output_type": "execute_result"
    }
   ],
   "source": [
    "data[data['name'].str.startswith('The International 2', na=False)] "
   ]
  },
  {
   "cell_type": "code",
   "execution_count": 8,
   "id": "c9b6e1f3",
   "metadata": {},
   "outputs": [
    {
     "data": {
      "application/vnd.microsoft.datawrangler.viewer.v0+json": {
       "columns": [
        {
         "name": "index",
         "rawType": "int64",
         "type": "integer"
        },
        {
         "name": "leagueid",
         "rawType": "int64",
         "type": "integer"
        },
        {
         "name": "ticket",
         "rawType": "object",
         "type": "unknown"
        },
        {
         "name": "banner",
         "rawType": "object",
         "type": "unknown"
        },
        {
         "name": "tier",
         "rawType": "object",
         "type": "string"
        },
        {
         "name": "name",
         "rawType": "object",
         "type": "string"
        }
       ],
       "ref": "240c9a95-a43b-4dcb-91de-8bb1739f992b",
       "rows": [
        [
         "95",
         "10482",
         null,
         null,
         "premium",
         "The Chongqing Major"
        ],
        [
         "97",
         "10725",
         null,
         null,
         "professional",
         "ESL One Birmingham 2019 powered by Intel"
        ],
        [
         "147",
         "17874",
         null,
         null,
         "professional",
         "DreamLeague Season 26 Qualifiers"
        ],
        [
         "201",
         "17891",
         null,
         null,
         "professional",
         "PGL Wallachia 2025 Season 3"
        ],
        [
         "434",
         "2686",
         null,
         null,
         "professional",
         "ESL One Frankfurt 2015"
        ],
        [
         "442",
         "5401",
         null,
         null,
         "professional",
         "The International 2017"
        ],
        [
         "493",
         "17765",
         null,
         null,
         "professional",
         "DreamLeague Season 25 powered by Intel"
        ],
        [
         "675",
         "10326",
         null,
         null,
         "premium",
         "DreamLeague Season 10"
        ],
        [
         "719",
         "4507",
         null,
         null,
         "professional",
         "DreamLeague Season 5"
        ],
        [
         "853",
         "13114",
         null,
         null,
         "premium",
         "DreamLeague Season 15 DPC Western Europe Upper Division"
        ],
        [
         "854",
         "13115",
         null,
         null,
         "premium",
         "DreamLeague Season 15 DPC Western Europe Lower Division"
        ],
        [
         "859",
         "2511",
         null,
         null,
         "professional",
         "Major Allstars tournament"
        ],
        [
         "920",
         "9633",
         null,
         null,
         "premium",
         "ESL One Katowice 2018 powered by Intel"
        ],
        [
         "936",
         "10749",
         null,
         null,
         "premium",
         "The International 2019"
        ],
        [
         "951",
         "17795",
         null,
         null,
         "professional",
         "ESL One Raleigh 2025"
        ],
        [
         "964",
         "9880",
         null,
         null,
         "premium",
         "ESL One Birmingham 2018 powered by Intel"
        ],
        [
         "975",
         "10810",
         null,
         null,
         "premium",
         "MDL Disneyland® Paris Major"
        ],
        [
         "1129",
         "10197",
         null,
         null,
         "professional",
         "ESL One Hamburg 2018 powered by Intel"
        ],
        [
         "1198",
         "11420",
         null,
         null,
         "professional",
         "Bautumn Major"
        ],
        [
         "1340",
         "11280",
         null,
         null,
         "premium",
         "MDL Chengdu Major"
        ],
        [
         "1372",
         "11349",
         null,
         null,
         "professional",
         "Corsair DreamLeague Season 12"
        ],
        [
         "1418",
         "10424",
         null,
         null,
         "professional",
         "ESL One Katowice 2019 powered by Intel"
        ],
        [
         "1479",
         "11517",
         null,
         null,
         "premium",
         "DreamLeague Season 13"
        ],
        [
         "1494",
         "11753",
         null,
         null,
         "professional",
         "ESL One Birmingham 2020 powered by Intel"
        ],
        [
         "1576",
         "11823",
         null,
         null,
         "professional",
         "ESL One Los Angeles 2020 Online powered by Intel"
        ],
        [
         "1748",
         "14388",
         null,
         null,
         "professional",
         "ESL One Malaysia 2022 powered by Intel"
        ],
        [
         "1752",
         "4266",
         null,
         null,
         "professional",
         "Winter Major 2016"
        ],
        [
         "1791",
         "12229",
         null,
         null,
         "professional",
         "ESL One Thailand 2020 Online powered by Intel"
        ],
        [
         "1811",
         "4951",
         null,
         null,
         "professional",
         "ASUS ROG DreamLeague Season 6"
        ],
        [
         "1850",
         "5336",
         null,
         null,
         "professional",
         "DreamLeague season 7"
        ],
        [
         "1966",
         "9683",
         null,
         null,
         "premium",
         "Corsair DreamLeague season 9"
        ],
        [
         "1982",
         "9943",
         null,
         null,
         "premium",
         "CHINA DOTA2 SUPER MAJOR"
        ],
        [
         "1994",
         "18110",
         null,
         null,
         "professional",
         "BetBoom Streamers Battle 10"
        ],
        [
         "1995",
         "18111",
         null,
         null,
         "professional",
         "DreamLeague Season 26"
        ],
        [
         "2010",
         "12027",
         null,
         null,
         "professional",
         "ESL One Birmingham 2020 Online powered by Intel"
        ],
        [
         "2043",
         "14281",
         null,
         null,
         "premium",
         "DPC NA Division I Summer Tour - 2021/2022 - ESL One Summer presented by Intel"
        ],
        [
         "2054",
         "1886",
         null,
         null,
         "professional",
         "ESL One New York"
        ],
        [
         "2085",
         "14389",
         null,
         null,
         "professional",
         "ESL One Malaysia 2022 Qualifiers powered by Intel"
        ],
        [
         "2135",
         "9870",
         null,
         null,
         "premium",
         "The International 2018"
        ],
        [
         "2151",
         "2589",
         null,
         null,
         "professional",
         "The Prime Major Tournament"
        ],
        [
         "2214",
         "10646",
         null,
         null,
         "professional",
         "ESL One Mumbai 2019 powered by Intel"
        ],
        [
         "2548",
         "14223",
         null,
         null,
         "premium",
         "DPC 2021-2022 Tour 3 Qualifiers WEU - DreamLeague Season 18 powered by Intel"
        ],
        [
         "2549",
         "14224",
         null,
         null,
         "premium",
         "DPC 2021-2022 Summer Tour Qualifiers NA - ESL One Summer powered by Intel"
        ],
        [
         "2557",
         "65005",
         "econ/leagues/subscriptions_westqualifier_ingame",
         "econ/leagues/subscriptions_westqualifier_ingame",
         "professional",
         "The International West Qualifiers"
        ],
        [
         "2563",
         "10681",
         null,
         null,
         "premium",
         "DreamLeague Season 11"
        ],
        [
         "2626",
         "10826",
         null,
         null,
         "premium",
         "EPICENTER Major 2019"
        ],
        [
         "2656",
         "14391",
         null,
         null,
         "professional",
         "Riyadh Masters by Gamers8"
        ],
        [
         "2658",
         "65004",
         "econ/leagues/subscriptions_eastqualifier_ingame",
         "econ/leagues/subscriptions_eastqualifier_ingame",
         "professional",
         "The International East Qualifiers"
        ],
        [
         "2854",
         "13738",
         null,
         null,
         "premium",
         "DPC WEU Division I Winter Tour - 2021/2022 - DreamLeague Season 16 presented by Intel"
        ],
        [
         "2882",
         "13961",
         null,
         null,
         "premium",
         "DPC 2021-2022 Tour 1 Regional Finals NA - ESL One powered by Intel"
        ]
       ],
       "shape": {
        "columns": 5,
        "rows": 212
       }
      },
      "text/html": [
       "<div>\n",
       "<style scoped>\n",
       "    .dataframe tbody tr th:only-of-type {\n",
       "        vertical-align: middle;\n",
       "    }\n",
       "\n",
       "    .dataframe tbody tr th {\n",
       "        vertical-align: top;\n",
       "    }\n",
       "\n",
       "    .dataframe thead th {\n",
       "        text-align: right;\n",
       "    }\n",
       "</style>\n",
       "<table border=\"1\" class=\"dataframe\">\n",
       "  <thead>\n",
       "    <tr style=\"text-align: right;\">\n",
       "      <th></th>\n",
       "      <th>leagueid</th>\n",
       "      <th>ticket</th>\n",
       "      <th>banner</th>\n",
       "      <th>tier</th>\n",
       "      <th>name</th>\n",
       "    </tr>\n",
       "  </thead>\n",
       "  <tbody>\n",
       "    <tr>\n",
       "      <th>95</th>\n",
       "      <td>10482</td>\n",
       "      <td>None</td>\n",
       "      <td>None</td>\n",
       "      <td>premium</td>\n",
       "      <td>The Chongqing Major</td>\n",
       "    </tr>\n",
       "    <tr>\n",
       "      <th>97</th>\n",
       "      <td>10725</td>\n",
       "      <td>None</td>\n",
       "      <td>None</td>\n",
       "      <td>professional</td>\n",
       "      <td>ESL One Birmingham 2019 powered by Intel</td>\n",
       "    </tr>\n",
       "    <tr>\n",
       "      <th>147</th>\n",
       "      <td>17874</td>\n",
       "      <td>None</td>\n",
       "      <td>None</td>\n",
       "      <td>professional</td>\n",
       "      <td>DreamLeague Season 26 Qualifiers</td>\n",
       "    </tr>\n",
       "    <tr>\n",
       "      <th>201</th>\n",
       "      <td>17891</td>\n",
       "      <td>None</td>\n",
       "      <td>None</td>\n",
       "      <td>professional</td>\n",
       "      <td>PGL Wallachia 2025 Season 3</td>\n",
       "    </tr>\n",
       "    <tr>\n",
       "      <th>434</th>\n",
       "      <td>2686</td>\n",
       "      <td>None</td>\n",
       "      <td>None</td>\n",
       "      <td>professional</td>\n",
       "      <td>ESL One Frankfurt 2015</td>\n",
       "    </tr>\n",
       "    <tr>\n",
       "      <th>...</th>\n",
       "      <td>...</td>\n",
       "      <td>...</td>\n",
       "      <td>...</td>\n",
       "      <td>...</td>\n",
       "      <td>...</td>\n",
       "    </tr>\n",
       "    <tr>\n",
       "      <th>8318</th>\n",
       "      <td>16093</td>\n",
       "      <td>None</td>\n",
       "      <td>None</td>\n",
       "      <td>professional</td>\n",
       "      <td>BetBoom Dacha - Closed Qualifier - EEU</td>\n",
       "    </tr>\n",
       "    <tr>\n",
       "      <th>8321</th>\n",
       "      <td>16097</td>\n",
       "      <td>None</td>\n",
       "      <td>None</td>\n",
       "      <td>professional</td>\n",
       "      <td>BetBoom Dacha - Closed Qualifier - NA and SA</td>\n",
       "    </tr>\n",
       "    <tr>\n",
       "      <th>8474</th>\n",
       "      <td>16608</td>\n",
       "      <td>None</td>\n",
       "      <td>None</td>\n",
       "      <td>professional</td>\n",
       "      <td>BetBoom Streamers Battle 6</td>\n",
       "    </tr>\n",
       "    <tr>\n",
       "      <th>8513</th>\n",
       "      <td>15089</td>\n",
       "      <td>None</td>\n",
       "      <td>None</td>\n",
       "      <td>premium</td>\n",
       "      <td>Lima Major 2023</td>\n",
       "    </tr>\n",
       "    <tr>\n",
       "      <th>8577</th>\n",
       "      <td>65006</td>\n",
       "      <td>None</td>\n",
       "      <td>None</td>\n",
       "      <td>professional</td>\n",
       "      <td>The International 2013</td>\n",
       "    </tr>\n",
       "  </tbody>\n",
       "</table>\n",
       "<p>212 rows × 5 columns</p>\n",
       "</div>"
      ],
      "text/plain": [
       "      leagueid ticket banner          tier  \\\n",
       "95       10482   None   None       premium   \n",
       "97       10725   None   None  professional   \n",
       "147      17874   None   None  professional   \n",
       "201      17891   None   None  professional   \n",
       "434       2686   None   None  professional   \n",
       "...        ...    ...    ...           ...   \n",
       "8318     16093   None   None  professional   \n",
       "8321     16097   None   None  professional   \n",
       "8474     16608   None   None  professional   \n",
       "8513     15089   None   None       premium   \n",
       "8577     65006   None   None  professional   \n",
       "\n",
       "                                              name  \n",
       "95                             The Chongqing Major  \n",
       "97        ESL One Birmingham 2019 powered by Intel  \n",
       "147               DreamLeague Season 26 Qualifiers  \n",
       "201                    PGL Wallachia 2025 Season 3  \n",
       "434                         ESL One Frankfurt 2015  \n",
       "...                                            ...  \n",
       "8318        BetBoom Dacha - Closed Qualifier - EEU  \n",
       "8321  BetBoom Dacha - Closed Qualifier - NA and SA  \n",
       "8474                    BetBoom Streamers Battle 6  \n",
       "8513                               Lima Major 2023  \n",
       "8577                        The International 2013  \n",
       "\n",
       "[212 rows x 5 columns]"
      ]
     },
     "execution_count": 8,
     "metadata": {},
     "output_type": "execute_result"
    }
   ],
   "source": [
    "keywords = ['ESL One', 'BlAST Slam', 'PGL Wallachia', 'Riyadh Masters', 'Esports World Cup', 'Major', 'BetBoom', \n",
    "            'DreamLeague Season', 'FISSURE PLAYGROUND', 'The International']\n",
    "pattern = '|'.join(keywords)\n",
    "\n",
    "la = data[data['name'].str.contains(pattern, case=False)]\n",
    "la\n"
   ]
  },
  {
   "cell_type": "code",
   "execution_count": 9,
   "id": "bf68cac4",
   "metadata": {},
   "outputs": [
    {
     "data": {
      "application/vnd.microsoft.datawrangler.viewer.v0+json": {
       "columns": [
        {
         "name": "index",
         "rawType": "int64",
         "type": "integer"
        },
        {
         "name": "leagueid",
         "rawType": "int64",
         "type": "integer"
        },
        {
         "name": "ticket",
         "rawType": "object",
         "type": "unknown"
        },
        {
         "name": "banner",
         "rawType": "object",
         "type": "unknown"
        },
        {
         "name": "tier",
         "rawType": "object",
         "type": "string"
        },
        {
         "name": "name",
         "rawType": "object",
         "type": "string"
        }
       ],
       "ref": "3c0a2e33-9236-49d6-8d17-2c8be753cc25",
       "rows": [
        [
         "2656",
         "14391",
         null,
         null,
         "professional",
         "Riyadh Masters by Gamers8"
        ],
        [
         "3979",
         "15475",
         null,
         null,
         "professional",
         "Riyadh Masters 2023 by Gamers8"
        ],
        [
         "6527",
         "16881",
         null,
         null,
         "professional",
         "Riyadh Masters 2024 at Esports World Cup"
        ],
        [
         "6794",
         "16740",
         null,
         null,
         "professional",
         "Riyadh Masters 2024 at Esports World Cup Qualifiers"
        ]
       ],
       "shape": {
        "columns": 5,
        "rows": 4
       }
      },
      "text/html": [
       "<div>\n",
       "<style scoped>\n",
       "    .dataframe tbody tr th:only-of-type {\n",
       "        vertical-align: middle;\n",
       "    }\n",
       "\n",
       "    .dataframe tbody tr th {\n",
       "        vertical-align: top;\n",
       "    }\n",
       "\n",
       "    .dataframe thead th {\n",
       "        text-align: right;\n",
       "    }\n",
       "</style>\n",
       "<table border=\"1\" class=\"dataframe\">\n",
       "  <thead>\n",
       "    <tr style=\"text-align: right;\">\n",
       "      <th></th>\n",
       "      <th>leagueid</th>\n",
       "      <th>ticket</th>\n",
       "      <th>banner</th>\n",
       "      <th>tier</th>\n",
       "      <th>name</th>\n",
       "    </tr>\n",
       "  </thead>\n",
       "  <tbody>\n",
       "    <tr>\n",
       "      <th>2656</th>\n",
       "      <td>14391</td>\n",
       "      <td>None</td>\n",
       "      <td>None</td>\n",
       "      <td>professional</td>\n",
       "      <td>Riyadh Masters by Gamers8</td>\n",
       "    </tr>\n",
       "    <tr>\n",
       "      <th>3979</th>\n",
       "      <td>15475</td>\n",
       "      <td>None</td>\n",
       "      <td>None</td>\n",
       "      <td>professional</td>\n",
       "      <td>Riyadh Masters 2023 by Gamers8</td>\n",
       "    </tr>\n",
       "    <tr>\n",
       "      <th>6527</th>\n",
       "      <td>16881</td>\n",
       "      <td>None</td>\n",
       "      <td>None</td>\n",
       "      <td>professional</td>\n",
       "      <td>Riyadh Masters 2024 at Esports World Cup</td>\n",
       "    </tr>\n",
       "    <tr>\n",
       "      <th>6794</th>\n",
       "      <td>16740</td>\n",
       "      <td>None</td>\n",
       "      <td>None</td>\n",
       "      <td>professional</td>\n",
       "      <td>Riyadh Masters 2024 at Esports World Cup Quali...</td>\n",
       "    </tr>\n",
       "  </tbody>\n",
       "</table>\n",
       "</div>"
      ],
      "text/plain": [
       "      leagueid ticket banner          tier  \\\n",
       "2656     14391   None   None  professional   \n",
       "3979     15475   None   None  professional   \n",
       "6527     16881   None   None  professional   \n",
       "6794     16740   None   None  professional   \n",
       "\n",
       "                                                   name  \n",
       "2656                          Riyadh Masters by Gamers8  \n",
       "3979                     Riyadh Masters 2023 by Gamers8  \n",
       "6527           Riyadh Masters 2024 at Esports World Cup  \n",
       "6794  Riyadh Masters 2024 at Esports World Cup Quali...  "
      ]
     },
     "execution_count": 9,
     "metadata": {},
     "output_type": "execute_result"
    }
   ],
   "source": [
    "data[data['name'].str.contains('Riyadh Masters')]"
   ]
  },
  {
   "cell_type": "code",
   "execution_count": 10,
   "id": "21e9b6ea",
   "metadata": {},
   "outputs": [
    {
     "data": {
      "text/plain": [
       "Index(['leagueid', 'ticket', 'banner', 'tier', 'name'], dtype='object')"
      ]
     },
     "execution_count": 10,
     "metadata": {},
     "output_type": "execute_result"
    }
   ],
   "source": [
    "la.columns"
   ]
  },
  {
   "cell_type": "code",
   "execution_count": 11,
   "id": "e55d4451",
   "metadata": {},
   "outputs": [],
   "source": [
    "la = la['leagueid']\n",
    "la.to_csv('graph/tours_id.csv', index=False)"
   ]
  },
  {
   "cell_type": "code",
   "execution_count": null,
   "id": "79c4db95",
   "metadata": {},
   "outputs": [],
   "source": []
  }
 ],
 "metadata": {
  "kernelspec": {
   "display_name": "venv",
   "language": "python",
   "name": "python3"
  },
  "language_info": {
   "codemirror_mode": {
    "name": "ipython",
    "version": 3
   },
   "file_extension": ".py",
   "mimetype": "text/x-python",
   "name": "python",
   "nbconvert_exporter": "python",
   "pygments_lexer": "ipython3",
   "version": "3.12.3"
  }
 },
 "nbformat": 4,
 "nbformat_minor": 5
}
